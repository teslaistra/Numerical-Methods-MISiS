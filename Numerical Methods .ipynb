{
 "cells": [
  {
   "cell_type": "code",
   "execution_count": 1,
   "metadata": {},
   "outputs": [],
   "source": [
    "import pandas "
   ]
  },
  {
   "cell_type": "code",
   "execution_count": null,
   "metadata": {},
   "outputs": [],
   "source": [
    "def bisection_method(func, x0=0.2, x1=1.2, eps=0.0001):\n",
    "    x0 = 0.2\n",
    "    x1 = 1.2\n",
    "    eps = 0.0001\n",
    "    delx = x1-x0\n",
    "    f0 = func(x0)\n",
    "    f1 = func(x1)\n",
    "    while delx > eps:\n",
    "        xm = 0.5*(x0+x1)\n",
    "        fm = func(xm)\n",
    "        if f0*fm > 0:\n",
    "            x0 = xm\n",
    "            f0 = fm\n",
    "        else:\n",
    "            x1 = xm\n",
    "            f1 = fm\n",
    "        delx = fabs(x1-x0)\n",
    "        "
   ]
  }
 ],
 "metadata": {
  "kernelspec": {
   "display_name": "Python 3",
   "language": "python",
   "name": "python3"
  },
  "language_info": {
   "codemirror_mode": {
    "name": "ipython",
    "version": 3
   },
   "file_extension": ".py",
   "mimetype": "text/x-python",
   "name": "python",
   "nbconvert_exporter": "python",
   "pygments_lexer": "ipython3",
   "version": "3.8.3"
  }
 },
 "nbformat": 4,
 "nbformat_minor": 4
}
